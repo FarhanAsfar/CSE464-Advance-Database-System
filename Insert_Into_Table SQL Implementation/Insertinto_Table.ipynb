{
  "nbformat": 4,
  "nbformat_minor": 0,
  "metadata": {
    "colab": {
      "provenance": []
    },
    "kernelspec": {
      "name": "python3",
      "display_name": "Python 3"
    },
    "language_info": {
      "name": "python"
    }
  },
  "cells": [
    {
      "cell_type": "code",
      "execution_count": null,
      "metadata": {
        "colab": {
          "base_uri": "https://localhost:8080/"
        },
        "id": "2R0kxqfuDv31",
        "outputId": "ecd96258-f12f-4d1a-9a3d-65248881b0cc"
      },
      "outputs": [
        {
          "output_type": "stream",
          "name": "stdout",
          "text": [
            "Mounted at /content/drive\n"
          ]
        }
      ],
      "source": [
        "from google.colab import drive\n",
        "drive.mount('/content/drive')"
      ]
    },
    {
      "cell_type": "code",
      "source": [
        "cd /content/drive/MyDrive/CSE_464"
      ],
      "metadata": {
        "colab": {
          "base_uri": "https://localhost:8080/"
        },
        "id": "NBX9fyWnD-it",
        "outputId": "d6d61e9e-97b7-4e35-f7ad-11842258380c"
      },
      "execution_count": null,
      "outputs": [
        {
          "output_type": "stream",
          "name": "stdout",
          "text": [
            "/content/drive/MyDrive/CSE_464\n"
          ]
        }
      ]
    },
    {
      "cell_type": "code",
      "source": [
        "import re\n",
        "from pathlib import Path"
      ],
      "metadata": {
        "id": "t72oPinkD_Mk"
      },
      "execution_count": null,
      "outputs": []
    },
    {
      "cell_type": "code",
      "source": [
        "sqlCom=\"INSERT INTO Persons VALUES (11 Asfar Farhan khilgaon Dhaka)\"\n",
        "print(sqlCom)"
      ],
      "metadata": {
        "id": "b3Nnwj8bERDt",
        "colab": {
          "base_uri": "https://localhost:8080/"
        },
        "outputId": "daded59e-ab44-4632-f4b4-65a120cbe4b2"
      },
      "execution_count": null,
      "outputs": [
        {
          "output_type": "stream",
          "name": "stdout",
          "text": [
            "INSERT INTO Persons VALUES (11 Asfar Farhan khilgaon Dhaka)\n"
          ]
        }
      ]
    },
    {
      "cell_type": "code",
      "source": [
        "sqlCom = re.sub(\"\\n\", \"\", sqlCom)\n",
        "token = sqlCom.split()\n",
        "for i in range(len(token)):\n",
        "    print(token[i])"
      ],
      "metadata": {
        "colab": {
          "base_uri": "https://localhost:8080/"
        },
        "id": "ZcvDlgYTAKEl",
        "outputId": "2751d429-b71d-4109-d705-28cf46cda257"
      },
      "execution_count": null,
      "outputs": [
        {
          "output_type": "stream",
          "name": "stdout",
          "text": [
            "INSERT\n",
            "INTO\n",
            "Persons\n",
            "VALUES\n",
            "(11\n",
            "Asfar\n",
            "Farhan\n",
            "khilgaon\n",
            "Dhaka)\n"
          ]
        }
      ]
    },
    {
      "cell_type": "code",
      "source": [
        "def executionCommand(token):\n",
        "    if token[0] == 'INSERT':\n",
        "        token = [re.sub('[()]',\"\", word) for word in token]\n",
        "        temp = token[3]\n",
        "        token = [word for word in token if word != temp]\n",
        "        for i in range(len(token)):\n",
        "            if token[i] != \" \":\n",
        "                print(token[i])\n",
        "\n",
        "        table_name = token[2]\n",
        "        filename = table_name\n",
        "        path = filename + \".txt\"\n",
        "        #path2 = filename + \"Info.txt\"\n",
        "        address = Path(path)\n",
        "\n",
        "        f2 = open(path, \"a\")\n",
        "        \"\"\"for i in range(3, len(token), 1):\n",
        "            temp = token[i]+\" \"+token[i+1]+\" \"+token[i+2]+\" \"+token[i+3]+\" \"+token[i+4]+ \"\\n\"\n",
        "            f2.write(temp)\n",
        "        f2.close()\n",
        "        \"\"\"\n",
        "        temp = token[3]+\" #\"+token[4]+\" #\"+token[5]+\" #\"+token[6]+\" #\"+token[7]+ \"\\n\"\n",
        "        f2.write(temp)\n",
        "\n",
        "        f2.close()\n",
        "        print(\"Values inserted\")"
      ],
      "metadata": {
        "id": "vZJjQkv86vEi"
      },
      "execution_count": null,
      "outputs": []
    },
    {
      "cell_type": "code",
      "source": [
        "executionCommand(token)"
      ],
      "metadata": {
        "colab": {
          "base_uri": "https://localhost:8080/"
        },
        "id": "7hXBmITqFJn1",
        "outputId": "afb3f3d9-0fcc-44bd-d3bc-720a4eb231d5"
      },
      "execution_count": null,
      "outputs": [
        {
          "output_type": "stream",
          "name": "stdout",
          "text": [
            "INSERT\n",
            "INTO\n",
            "Persons\n",
            "11\n",
            "Asfar\n",
            "Farhan\n",
            "khilgaon\n",
            "Dhaka\n",
            "Values inserted\n"
          ]
        }
      ]
    }
  ]
}
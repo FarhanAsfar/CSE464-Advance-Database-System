{
  "nbformat": 4,
  "nbformat_minor": 0,
  "metadata": {
    "colab": {
      "provenance": []
    },
    "kernelspec": {
      "name": "python3",
      "display_name": "Python 3"
    },
    "language_info": {
      "name": "python"
    }
  },
  "cells": [
    {
      "cell_type": "code",
      "execution_count": null,
      "metadata": {
        "id": "hY3O8G8BmjNR",
        "colab": {
          "base_uri": "https://localhost:8080/"
        },
        "outputId": "b5f11291-f0a6-452f-b7ce-16b18f2f1c8f"
      },
      "outputs": [
        {
          "output_type": "stream",
          "name": "stdout",
          "text": [
            "Mounted at /content/drive\n"
          ]
        }
      ],
      "source": [
        "from google.colab import drive\n",
        "drive.mount('/content/drive')"
      ]
    },
    {
      "cell_type": "code",
      "source": [
        "cd /content/drive/MyDrive/CSE_464"
      ],
      "metadata": {
        "colab": {
          "base_uri": "https://localhost:8080/"
        },
        "id": "gzVA4DuPmtP5",
        "outputId": "c0844869-192b-4281-f142-2aec7e48069f"
      },
      "execution_count": null,
      "outputs": [
        {
          "output_type": "stream",
          "name": "stdout",
          "text": [
            "/content/drive/MyDrive/CSE_464\n"
          ]
        }
      ]
    },
    {
      "cell_type": "code",
      "source": [
        "import re\n",
        "from pathlib import Path"
      ],
      "metadata": {
        "id": "MlIt84jwmvg4"
      },
      "execution_count": null,
      "outputs": []
    },
    {
      "cell_type": "code",
      "source": [
        "sqlCom=\"SELECT * FROM Persons\"\n",
        "print(sqlCom)"
      ],
      "metadata": {
        "colab": {
          "base_uri": "https://localhost:8080/"
        },
        "id": "LxQpSOiCmxWY",
        "outputId": "3331d802-3182-4cbc-ff6f-9ba793ae1a26"
      },
      "execution_count": null,
      "outputs": [
        {
          "output_type": "stream",
          "name": "stdout",
          "text": [
            "SELECT * FROM Persons\n"
          ]
        }
      ]
    },
    {
      "cell_type": "code",
      "source": [
        "sqlCom = re.sub(\"\\n\", \"\", sqlCom)\n",
        "token = sqlCom.split()\n",
        "for i in range(len(token)):\n",
        "    print(token[i])"
      ],
      "metadata": {
        "colab": {
          "base_uri": "https://localhost:8080/"
        },
        "id": "LrqnvXaQnOvZ",
        "outputId": "46af37bf-7ec3-4326-9117-0dce5c4c4d1a"
      },
      "execution_count": null,
      "outputs": [
        {
          "output_type": "stream",
          "name": "stdout",
          "text": [
            "SELECT\n",
            "*\n",
            "FROM\n",
            "Persons\n"
          ]
        }
      ]
    },
    {
      "cell_type": "code",
      "source": [
        "def executionCommand(token):\n",
        "    if token[0] == 'SELECT':\n",
        "        table_name = token[3]\n",
        "        table_filename = table_name + \".txt\" #Persons.txt\n",
        "        output_filename = 'select.txt'\n",
        "\n",
        "        try:\n",
        "            with open(table_filename, \"r\") as input_file:\n",
        "                data = input_file.read()\n",
        "                words = data.split()\n",
        "                #print(words)\n",
        "                for i in range(len(words)):\n",
        "                    if '#' in words[i]:\n",
        "                      words[i] = words[i].replace('#', ' ')\n",
        "                      print(words)\n",
        "\n",
        "                joined_data = ' '.join(words)\n",
        "                print(joined_data)\n",
        "\n",
        "                with open(output_filename, \"w\") as output_file:\n",
        "                    output_file.write(joined_data)\n",
        "                print(f\"Content of '{table_filename}' has been written to '{output_filename}'\")\n",
        "        except FileNotFoundError:\n",
        "            print(f\"File '{table_filename}' does not exist\")"
      ],
      "metadata": {
        "id": "6f8e75P0OWAc"
      },
      "execution_count": null,
      "outputs": []
    },
    {
      "cell_type": "code",
      "source": [
        "executionCommand(token)"
      ],
      "metadata": {
        "colab": {
          "base_uri": "https://localhost:8080/"
        },
        "id": "Tm7_CAazOXYD",
        "outputId": "cb53367a-ff2d-41b7-99fe-a4957c386266"
      },
      "execution_count": null,
      "outputs": [
        {
          "output_type": "stream",
          "name": "stdout",
          "text": [
            "['11', ' Asfar', '#Farhan', '#khilgaon', '#Dhaka']\n",
            "['11', ' Asfar', ' Farhan', '#khilgaon', '#Dhaka']\n",
            "['11', ' Asfar', ' Farhan', ' khilgaon', '#Dhaka']\n",
            "['11', ' Asfar', ' Farhan', ' khilgaon', ' Dhaka']\n",
            "11  Asfar  Farhan  khilgaon  Dhaka\n",
            "Content of 'Persons.txt' has been written to 'select.txt'\n"
          ]
        }
      ]
    }
  ]
}
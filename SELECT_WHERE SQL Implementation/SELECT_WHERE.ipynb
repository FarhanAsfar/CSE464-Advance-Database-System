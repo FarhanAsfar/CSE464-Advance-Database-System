{
  "nbformat": 4,
  "nbformat_minor": 0,
  "metadata": {
    "colab": {
      "provenance": []
    },
    "kernelspec": {
      "name": "python3",
      "display_name": "Python 3"
    },
    "language_info": {
      "name": "python"
    }
  },
  "cells": [
    {
      "cell_type": "code",
      "execution_count": 1,
      "metadata": {
        "colab": {
          "base_uri": "https://localhost:8080/"
        },
        "id": "xuXyCGp5GmzR",
        "outputId": "62f916e7-e377-4cea-b34e-88dda0ee092d"
      },
      "outputs": [
        {
          "output_type": "stream",
          "name": "stdout",
          "text": [
            "Mounted at /content/drive\n"
          ]
        }
      ],
      "source": [
        "from google.colab import drive\n",
        "drive.mount('/content/drive')"
      ]
    },
    {
      "cell_type": "code",
      "source": [
        "cd /content/drive/MyDrive/CSE_464"
      ],
      "metadata": {
        "colab": {
          "base_uri": "https://localhost:8080/"
        },
        "id": "LsvM-djJG6g1",
        "outputId": "43eea93a-4fe6-46bf-b917-dc77e273052b"
      },
      "execution_count": 2,
      "outputs": [
        {
          "output_type": "stream",
          "name": "stdout",
          "text": [
            "/content/drive/MyDrive/CSE_464\n"
          ]
        }
      ]
    },
    {
      "cell_type": "code",
      "source": [
        "import re\n",
        "from pathlib import Path"
      ],
      "metadata": {
        "id": "p867q1a1HCiG"
      },
      "execution_count": 3,
      "outputs": []
    },
    {
      "cell_type": "code",
      "source": [
        "sqlCom=\"SELECT * FROM Persons WHERE Name = 13\"\n",
        "print(sqlCom)"
      ],
      "metadata": {
        "colab": {
          "base_uri": "https://localhost:8080/"
        },
        "id": "ph49eTGMHDY_",
        "outputId": "741d3038-2509-4ef2-96ff-64f26be6aab3"
      },
      "execution_count": 48,
      "outputs": [
        {
          "output_type": "stream",
          "name": "stdout",
          "text": [
            "SELECT * FROM Persons WHERE Name = 13\n"
          ]
        }
      ]
    },
    {
      "cell_type": "code",
      "source": [
        "sqlCom = re.sub(\"\\n\", \"\", sqlCom)\n",
        "token = sqlCom.split()\n",
        "for i in range(len(token)):\n",
        "    print(token[i])"
      ],
      "metadata": {
        "colab": {
          "base_uri": "https://localhost:8080/"
        },
        "id": "zUn1a2N-HKn3",
        "outputId": "a4e7e113-fdfb-4c05-a217-3039266910a0"
      },
      "execution_count": 49,
      "outputs": [
        {
          "output_type": "stream",
          "name": "stdout",
          "text": [
            "SELECT\n",
            "*\n",
            "FROM\n",
            "Persons\n",
            "WHERE\n",
            "Name\n",
            "=\n",
            "13\n"
          ]
        }
      ]
    },
    {
      "cell_type": "code",
      "source": [
        "\"\"\"def executionCommand(token):\n",
        "    if token[0] == 'SELECT':\n",
        "        table_name = token[3]\n",
        "        table_filename = table_name + \".txt\"  # Persons.txt\n",
        "        output_filename = 'SELECT_WHERE.txt'\n",
        "        find_val = token[7]\n",
        "\n",
        "        try:\n",
        "            with open(table_filename, \"r\") as input_file:\n",
        "                with open(output_filename, \"w\") as output_file:\n",
        "                    for line in input_file:\n",
        "                        flag = False\n",
        "                        words = line.split()\n",
        "                        for i in range(len(words)):\n",
        "                            #if '#' in words[i]:\n",
        "                                #words[i] = words[i].replace('#', ' ')\n",
        "                                if words[i] == find_val:\n",
        "                                  flag = True\n",
        "                        joined_data = ' '.join(words)\n",
        "                        if flag:\n",
        "                          output_file.write(joined_data + \"\\n\")\n",
        "                          print(f\" '{find_val}' found\")\n",
        "\n",
        "            print(f\"Content has been written to '{output_filename}'\")\n",
        "        except FileNotFoundError:\n",
        "            print(f\"File '{table_filename}' does not exist\")"
      ],
      "metadata": {
        "id": "cRDAdKe9UvCU"
      },
      "execution_count": 44,
      "outputs": []
    },
    {
      "cell_type": "code",
      "source": [
        "def executionCommand(token):\n",
        "    if token[0] == 'SELECT':\n",
        "        #table_name = token[3]\n",
        "        table_filename = 'select.txt'\n",
        "        output_filename = 'SELECT_WHERE.txt'\n",
        "        find_val = token[7]\n",
        "\n",
        "        try:\n",
        "            with open(table_filename, \"r\") as input_file:\n",
        "                with open(output_filename, \"a\") as output_file:\n",
        "                    for line in input_file:\n",
        "                        flag = False\n",
        "                        words = line.split()\n",
        "                        for i in range(len(words)):\n",
        "                            if words[i] == find_val:\n",
        "                              flag = True\n",
        "                        joined_data = ' '.join(words)\n",
        "                        if flag:\n",
        "                          output_file.write(joined_data + \"\\n\")\n",
        "                          print(f\"'{find_val}' found\")\n",
        "\n",
        "            print(f\"Content has been written to '{output_filename}'\")\n",
        "        except FileNotFoundError:\n",
        "            print(f\"File '{table_filename}' does not exist\")"
      ],
      "metadata": {
        "id": "Ga2_MJyVckdJ"
      },
      "execution_count": 50,
      "outputs": []
    },
    {
      "cell_type": "code",
      "source": [
        "executionCommand(token)"
      ],
      "metadata": {
        "colab": {
          "base_uri": "https://localhost:8080/"
        },
        "id": "QOQdicDjacwM",
        "outputId": "7c3c11f6-58fb-49ed-d171-db83034c14c2"
      },
      "execution_count": 51,
      "outputs": [
        {
          "output_type": "stream",
          "name": "stdout",
          "text": [
            "'13' found\n",
            "Content has been written to 'SELECT_WHERE.txt'\n"
          ]
        }
      ]
    }
  ]
}